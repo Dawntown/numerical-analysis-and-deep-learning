{
  "cells": [
    {
      "cell_type": "markdown",
      "metadata": {
        "id": "view-in-github",
        "colab_type": "text"
      },
      "source": [
        "<a href=\"https://colab.research.google.com/github/Dawntown/numerical-analysis-learning/blob/master/jax_intro.ipynb\" target=\"_parent\"><img src=\"https://colab.research.google.com/assets/colab-badge.svg\" alt=\"Open In Colab\"/></a>"
      ]
    },
    {
      "cell_type": "code",
      "execution_count": 1,
      "metadata": {
        "id": "mP3-QNIL78tW"
      },
      "outputs": [],
      "source": [
        "import jax.numpy as jnp\n",
        "from jax import grad, jit, vmap, pmap\n",
        "from jax import random\n",
        "import numpy as np\n",
        "import jax"
      ]
    },
    {
      "cell_type": "code",
      "execution_count": 2,
      "metadata": {
        "id": "WtT4X_Lp8YUr"
      },
      "outputs": [],
      "source": [
        "def f(x):\n",
        "    y1 = x + x*x + 3\n",
        "    y2 = x*x + x*x.T\n",
        "    return y1*y2"
      ]
    },
    {
      "cell_type": "code",
      "execution_count": 3,
      "metadata": {
        "id": "d1N1xgOo8Zjo"
      },
      "outputs": [],
      "source": [
        "x = np.random.randn(3000, 3000).astype(np.float32)\n",
        "jax_x_cpu = jax.device_put(jnp.array(x), jax.devices('cpu')[0])\n",
        "jax_x_gpu = jax.device_put(jnp.array(x), jax.devices('gpu')[0])\n",
        "jax_f_cpu = jax.jit(f, device=jax.devices('cpu')[0])\n",
        "jax_f_gpu = jax.jit(f, device=jax.devices('gpu')[0])"
      ]
    },
    {
      "cell_type": "code",
      "execution_count": 4,
      "metadata": {
        "colab": {
          "base_uri": "https://localhost:8080/"
        },
        "id": "VaQYnHlv8o2N",
        "outputId": "1cad081a-cea6-4e78-9593-b0f6050d59f4"
      },
      "outputs": [
        {
          "output_type": "stream",
          "name": "stdout",
          "text": [
            "75.1 ms ± 4.44 ms per loop (mean ± std. dev. of 7 runs, 30 loops each)\n"
          ]
        }
      ],
      "source": [
        "%timeit -n30 f(x)"
      ]
    },
    {
      "cell_type": "code",
      "execution_count": 5,
      "metadata": {
        "colab": {
          "base_uri": "https://localhost:8080/"
        },
        "id": "r-wLn8mT9hUN",
        "outputId": "75aedb37-0874-4ea7-a57f-85a0fa89f597"
      },
      "outputs": [
        {
          "output_type": "stream",
          "name": "stdout",
          "text": [
            "216 ms ± 11.3 ms per loop (mean ± std. dev. of 7 runs, 30 loops each)\n"
          ]
        }
      ],
      "source": [
        "%timeit -n30 f(jax_x_cpu).block_until_ready()"
      ]
    },
    {
      "cell_type": "code",
      "execution_count": 6,
      "metadata": {
        "colab": {
          "base_uri": "https://localhost:8080/"
        },
        "id": "QlLkCd9b9jem",
        "outputId": "f013fa05-daed-484b-807f-c126e02ee542"
      },
      "outputs": [
        {
          "output_type": "stream",
          "name": "stdout",
          "text": [
            "95.6 ms ± 4.99 ms per loop (mean ± std. dev. of 7 runs, 30 loops each)\n"
          ]
        }
      ],
      "source": [
        "%timeit -n30 jax_f_cpu(jax_x_cpu).block_until_ready()"
      ]
    },
    {
      "cell_type": "code",
      "execution_count": 7,
      "metadata": {
        "colab": {
          "base_uri": "https://localhost:8080/"
        },
        "id": "9iT6NFMI9nCy",
        "outputId": "18b512bc-3ef8-4ea4-9aa5-e9f3da30d223"
      },
      "outputs": [
        {
          "output_type": "stream",
          "name": "stdout",
          "text": [
            "The slowest run took 44.27 times longer than the fastest. This could mean that an intermediate result is being cached.\n",
            "23.9 ms ± 50.3 ms per loop (mean ± std. dev. of 7 runs, 30 loops each)\n"
          ]
        }
      ],
      "source": [
        "%timeit -n30 f(jax_x_gpu).block_until_ready()"
      ]
    },
    {
      "cell_type": "code",
      "execution_count": 8,
      "metadata": {
        "colab": {
          "base_uri": "https://localhost:8080/"
        },
        "id": "84LRr97h9oLV",
        "outputId": "c03efdb2-7c45-4837-f081-69d5d9aaab3a"
      },
      "outputs": [
        {
          "output_type": "stream",
          "name": "stdout",
          "text": [
            "The slowest run took 4.90 times longer than the fastest. This could mean that an intermediate result is being cached.\n",
            "1.12 ms ± 967 µs per loop (mean ± std. dev. of 7 runs, 30 loops each)\n"
          ]
        }
      ],
      "source": [
        "%timeit -n30 jax_f_gpu(jax_x_gpu).block_until_ready()"
      ]
    },
    {
      "cell_type": "code",
      "execution_count": null,
      "metadata": {
        "id": "huax8hIo-A8d"
      },
      "outputs": [],
      "source": []
    }
  ],
  "metadata": {
    "accelerator": "GPU",
    "colab": {
      "provenance": [],
      "gpuType": "T4",
      "authorship_tag": "ABX9TyOLJfkhZrvTa5jmyREC9E+L",
      "include_colab_link": true
    },
    "kernelspec": {
      "display_name": "Python 3",
      "name": "python3"
    },
    "language_info": {
      "name": "python"
    }
  },
  "nbformat": 4,
  "nbformat_minor": 0
}